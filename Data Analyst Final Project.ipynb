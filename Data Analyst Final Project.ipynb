{
 "cells": [
  {
   "cell_type": "markdown",
   "id": "25f36de1-def4-4b63-9b54-af570cd09f21",
   "metadata": {},
   "source": [
    "# Practical Exam: House Sales\n",
    "\n",
    "## Introduction\n",
    "\n",
    "RealAgents, a real estate company, aims to optimize house listing prices to minimize time to sale. We'll use a dataset of previous house sales to predict sale prices based on house characteristics.\n",
    "\n",
    "## Data\n",
    "\n",
    "The dataset (house_sales.csv) includes the following columns:\n",
    "\n",
    "| Column Name | Criteria                                                |\n",
    "|-------------|---------------------------------------------------------|\n",
    "| house_id    | Nominal. Unique identifier for houses. Missing values not possible. |\n",
    "| city        | Nominal. The city in which the house is located (one of 'Silvertown', 'Riverford', 'Teasdale', 'Poppleton'). Replace missing values with \"Unknown\". |\n",
    "| sale_price  | Discrete. The sale price of the house in whole dollars. Remove missing entries. |\n",
    "| sale_date   | Discrete. The date of the last sale of the house. Replace missing values with 2023-01-01. |\n",
    "| months_listed  | Continuous. The number of months the house was listed prior to its last sale, rounded to one decimal place. Replace missing values with the mean. |\n",
    "| bedrooms    | Discrete. The number of bedrooms. Replace missing values with the mean, rounded to the nearest integer. |\n",
    "| house_type   | Ordinal. One of \"Terraced\", \"Semi-detached\", or \"Detached\". Replace missing values with the most common type. |\n",
    "| area      | Continuous. The area in square meters, rounded to one decimal place. Replace missing values with the mean. |\n",
    "\n",
    "## Tasks \n",
    "\n",
    "We will complete the following tasks:\n",
    "\n",
    "1. **Identify Missing 'city' Values:** Calculate the number of missing values in the `city` column.\n",
    "2. **Data Cleaning and Preprocessing:** Prepare the data for modeling.\n",
    "3. **Average Sale Price by Bedrooms:**  Calculate the average and variance of sale price for each number of bedrooms. \n",
    "4. **Baseline Model:** Fit a linear regression model to predict sale price. \n",
    "5. **Comparison Model:** Fit a decision tree model for comparison."
   ]
  },
  {
   "cell_type": "code",
   "execution_count": 2,
   "id": "f14c7f02-e39b-4292-966f-c58316920ef8",
   "metadata": {},
   "outputs": [],
   "source": [
    "import pandas as pd\n",
    "from sklearn.linear_model import LinearRegression\n",
    "from sklearn.preprocessing import OneHotEncoder\n",
    "from sklearn.tree import DecisionTreeRegressor\n",
    "from sklearn.metrics import mean_squared_error\n",
    "from sklearn.model_selection import train_test_split"
   ]
  },
  {
   "cell_type": "markdown",
   "id": "357d11fa-6d8c-43a3-83dd-aee5b2890b57",
   "metadata": {},
   "source": [
    "## Task 1: Calculate Missing 'city' Values "
   ]
  },
  {
   "cell_type": "markdown",
   "id": "0c3df62b-7fb4-48c3-b9ca-b47247c7ac63",
   "metadata": {},
   "source": [
    "##### - Calculates and prints the number of missing values in the city column of the house_sales.csv dataset.\n",
    "##### - Identifies potential data quality issues. Missing values could indicate incomplete data collection or errors in recording. This helps understand the completeness of the dataset."
   ]
  },
  {
   "cell_type": "code",
   "execution_count": 6,
   "id": "f2a91f02-837d-4b9f-b83d-e941ab12aa01",
   "metadata": {},
   "outputs": [
    {
     "name": "stdout",
     "output_type": "stream",
     "text": [
      "Task 1: Missing 'city' values: 73\n"
     ]
    }
   ],
   "source": [
    "df = pd.read_csv(\"Downloads\\\\house_sales.csv\")\n",
    "missing_city = (df['city'] == \"--\").sum() \n",
    "print(f\"Task 1: Missing 'city' values: {missing_city}\")\n",
    "\n",
    "train_data, validation_data = train_test_split(df, test_size=0.2, random_state=42) \n",
    "train_data.to_csv(\"train.csv\", index=False)\n",
    "validation_data.to_csv(\"validation.csv\", index=False)"
   ]
  },
  {
   "cell_type": "markdown",
   "id": "228004b4-d0a2-46e5-8507-97dc61d82300",
   "metadata": {},
   "source": [
    "## Task 2: Data Cleaning and Preprocessing"
   ]
  },
  {
   "cell_type": "markdown",
   "id": "535df9ce-1dbc-4992-a8b0-116c91232784",
   "metadata": {},
   "source": [
    "day)."
   ]
  },
  {
   "cell_type": "code",
   "execution_count": 31,
   "id": "ebbbcc5d-5c8f-4b25-8172-a291725cd55a",
   "metadata": {},
   "outputs": [
    {
     "name": "stdout",
     "output_type": "stream",
     "text": [
      "   house_id        city  sale_price  months_listed  bedrooms     house_type  \\\n",
      "0   1217792  Silvertown       55943            5.4         2  Semi-detached   \n",
      "1   1900913  Silvertown      384677            6.3         5       Detached   \n",
      "2   1174927   Riverford      281707            6.9         6       Detached   \n",
      "3   1773666  Silvertown      373251            6.1         6       Detached   \n",
      "4   1258487  Silvertown      328885            8.7         5       Detached   \n",
      "\n",
      "    area  sale_year  sale_month  sale_day  \n",
      "0  107.8       2021           9        12  \n",
      "1  498.8       2021           1        17  \n",
      "2  542.5       2021          11        10  \n",
      "3  528.4       2020           4        13  \n",
      "4  477.1       2020           9        24  \n",
      "Task 2: Data cleaned.\n"
     ]
    }
   ],
   "source": [
    "def clean_data(df):\n",
    "    \"\"\"Cleans and preprocesses the input DataFrame.\"\"\"\n",
    "\n",
    "    df = df.copy()\n",
    "\n",
    "    # Replace missing values in 'city'\n",
    "    df['city'] = df['city'].fillna('Unknown')\n",
    "\n",
    "    # Remove rows with missing 'sale_price'\n",
    "    df = df.dropna(subset=['sale_price'])\n",
    "\n",
    "    # Replace missing 'sale_date'\n",
    "    df['sale_date'] = df['sale_date'].fillna('2023-01-01')\n",
    "\n",
    "    # Replace missing 'months_listed' with the mean\n",
    "    df['months_listed'] = df['months_listed'].fillna(round(df['months_listed'].mean(), 1))\n",
    "\n",
    "    # Replace missing 'bedrooms' with the mean\n",
    "    df['bedrooms'] = df['bedrooms'].fillna(round(df['bedrooms'].mean()))\n",
    "\n",
    "    # Replace abbreviations in 'house_type'\n",
    "    df['house_type'] = df['house_type'].replace({'Det.': 'Detached', 'Semi': 'Semi-detached', 'Terr.': 'Terraced'})\n",
    "\n",
    "    # Replace missing 'house_type' with the mode\n",
    "    df['house_type'] = df['house_type'].fillna(df['house_type'].mode()[0])\n",
    "\n",
    "    # Remove unit from 'area' and convert to float\n",
    "    df['area'] = df['area'].apply(lambda x: x.replace(' sq.m.', '') if isinstance(x, str) else x).astype(float)\n",
    "\n",
    "    # Convert 'sale_date' to datetime\n",
    "    df['sale_date'] = pd.to_datetime(df['sale_date'])\n",
    "\n",
    "    # Extract numerical features from 'sale_date'\n",
    "    df['sale_year'] = df['sale_date'].dt.year\n",
    "    df['sale_month'] = df['sale_date'].dt.month\n",
    "    df['sale_day'] = df['sale_date'].dt.day\n",
    "\n",
    "    # Drop the original 'sale_date' column\n",
    "    df = df.drop('sale_date', axis=1) \n",
    "\n",
    "    return df\n",
    "\n",
    "df_cleaned = clean_data(df)\n",
    "train_data_cleaned = clean_data(train_data)  \n",
    "validation_data_cleaned = clean_data(validation_data)\n",
    "print(df_cleaned.head())\n",
    "print(\"Task 2: Data cleaned.\")"
   ]
  },
  {
   "cell_type": "markdown",
   "id": "278c4773-7909-42e9-befd-fe5cac0ce618",
   "metadata": {},
   "source": [
    "## Task 3: Average Sale Price by Bedrooms"
   ]
  },
  {
   "cell_type": "code",
   "execution_count": 11,
   "id": "995dbf05-01ed-4fc0-8e09-48a044effda9",
   "metadata": {},
   "outputs": [
    {
     "name": "stdout",
     "output_type": "stream",
     "text": [
      "Task 3: Price by rooms calculated:\n",
      "   bedrooms  avg_price     var_price\n",
      "0         2    67076.4  5.652896e+08\n",
      "1         3   154665.1  2.378289e+09\n",
      "2         4   234704.6  1.725211e+09\n",
      "3         5   301515.9  2.484328e+09\n",
      "4         6   375741.3  3.924432e+09\n"
     ]
    }
   ],
   "source": [
    "price_by_rooms = df_cleaned.groupby('bedrooms')['sale_price'].agg(['mean', 'var']).reset_index()\n",
    "price_by_rooms.columns = ['bedrooms', 'avg_price', 'var_price']\n",
    "price_by_rooms = price_by_rooms.round(1)\n",
    "print(\"Task 3: Price by rooms calculated:\")\n",
    "print(price_by_rooms)"
   ]
  },
  {
   "cell_type": "markdown",
   "id": "1b5a0c0b-c4a6-4f6d-991a-6f97e7200791",
   "metadata": {},
   "source": [
    "## Task 4: Model Fitting and Prediction"
   ]
  },
  {
   "cell_type": "code",
   "execution_count": 13,
   "id": "6fb8e56e-766c-4a75-8fd7-2b4600e8a58d",
   "metadata": {},
   "outputs": [],
   "source": [
    "def model_1():\n",
    "\n",
    "    # Clean data\n",
    "    train_data_cleaned = clean_data(train_data)\n",
    "    validation_data_cleaned = clean_data(validation_data)\n",
    "\n",
    "    # Feature and Target Selection\n",
    "    features = ['bedrooms', 'area', 'months_listed'] \n",
    "    target = 'sale_price'\n",
    "\n",
    "    X_train = train_data_cleaned[features]\n",
    "    y_train = train_data_cleaned[target]\n",
    "    X_val = validation_data_cleaned[features]\n",
    "\n",
    "    # Model training using Linear Regression\n",
    "    model = LinearRegression()\n",
    "    model.fit(X_train, y_train)\n",
    "\n",
    "    # Prediction\n",
    "    predictions = model.predict(X_val)\n",
    "\n",
    "    # Create Result DataFrame\n",
    "    base_result = pd.DataFrame({'house_id': validation_data_cleaned['house_id'], 'price': predictions})\n",
    "    return base_result"
   ]
  },
  {
   "cell_type": "markdown",
   "id": "ff169485-a5ff-4a4c-9d58-7f12b66091a2",
   "metadata": {},
   "source": [
    "## Task 5: Comparison Model (Decision Tree Regressor)"
   ]
  },
  {
   "cell_type": "code",
   "execution_count": 15,
   "id": "5e335195-5696-464d-99e9-c3d7424d5419",
   "metadata": {},
   "outputs": [],
   "source": [
    "def model_2():\n",
    "    # Clean data\n",
    "    train_data_cleaned = clean_data(train_data)\n",
    "    validation_data_cleaned = clean_data(validation_data)\n",
    "\n",
    "    # One-hot Encode Categorical Features\n",
    "    categorical_cols = ['city', 'house_type']\n",
    "    enc = OneHotEncoder(handle_unknown='ignore', sparse_output=False)\n",
    "    \n",
    "    train_encoded = pd.DataFrame(enc.fit_transform(train_data_cleaned[categorical_cols]))\n",
    "    val_encoded = pd.DataFrame(enc.transform(validation_data_cleaned[categorical_cols]))\n",
    "    \n",
    "    train_encoded.columns = enc.get_feature_names_out(categorical_cols)\n",
    "    val_encoded.columns = enc.get_feature_names_out(categorical_cols)\n",
    "    \n",
    "    train_data_cleaned = train_data_cleaned.drop(categorical_cols, axis=1).reset_index(drop=True).join(train_encoded)\n",
    "    validation_data_cleaned = validation_data_cleaned.drop(categorical_cols, axis=1).reset_index(drop=True).join(val_encoded)\n",
    "\n",
    "    # Feature and Target Selection (All features)\n",
    "    features = train_data_cleaned.columns.drop('sale_price') \n",
    "    target = 'sale_price'\n",
    "    X_train = train_data_cleaned[features]\n",
    "    y_train = train_data_cleaned[target]\n",
    "    X_val = validation_data_cleaned[features]\n",
    "\n",
    "    # Model Training (Decision Tree)\n",
    "    model = DecisionTreeRegressor(random_state=42)  \n",
    "    model.fit(X_train, y_train)\n",
    "\n",
    "    # Prediction\n",
    "    predictions = model.predict(X_val)\n",
    "\n",
    "    # Create Result DataFrame\n",
    "    compare_result = pd.DataFrame({'house_id': validation_data_cleaned['house_id'], 'price': predictions})\n",
    "    return compare_result"
   ]
  },
  {
   "cell_type": "markdown",
   "id": "c1fe6826-c82b-464a-beae-826e9d4c7896",
   "metadata": {},
   "source": [
    "### Conduct the predictions"
   ]
  },
  {
   "cell_type": "code",
   "execution_count": 17,
   "id": "8e315bc2-7960-4fe7-80db-1c2db827b825",
   "metadata": {},
   "outputs": [
    {
     "name": "stdout",
     "output_type": "stream",
     "text": [
      "Baseline Model Predictions:\n",
      "      house_id          price\n",
      "1116   1320704   42478.659727\n",
      "1368   1089831  363069.027156\n",
      "422    1639742  189047.285246\n",
      "413    1421799  199220.224783\n",
      "451    1378910   45595.711497\n",
      "\n",
      "Comparison Model Predictions:\n",
      "   house_id     price\n",
      "0   1320704   35770.0\n",
      "1   1089831  386001.0\n",
      "2   1639742  209767.0\n",
      "3   1421799  250696.0\n",
      "4   1378910   53965.0\n"
     ]
    }
   ],
   "source": [
    "base_predictions = model_1()\n",
    "compare_predictions = model_2()\n",
    "\n",
    "# Print or inspect the predictions\n",
    "print(\"Baseline Model Predictions:\")\n",
    "print(base_predictions.head())\n",
    "\n",
    "print(\"\\nComparison Model Predictions:\")\n",
    "print(compare_predictions.head())"
   ]
  },
  {
   "cell_type": "code",
   "execution_count": null,
   "id": "3e2bd1e2-e8e9-4a69-b45c-c196d7fcb6fb",
   "metadata": {},
   "outputs": [],
   "source": []
  }
 ],
 "metadata": {
  "kernelspec": {
   "display_name": "Python 3 (ipykernel)",
   "language": "python",
   "name": "python3"
  },
  "language_info": {
   "codemirror_mode": {
    "name": "ipython",
    "version": 3
   },
   "file_extension": ".py",
   "mimetype": "text/x-python",
   "name": "python",
   "nbconvert_exporter": "python",
   "pygments_lexer": "ipython3",
   "version": "3.12.4"
  }
 },
 "nbformat": 4,
 "nbformat_minor": 5
}
